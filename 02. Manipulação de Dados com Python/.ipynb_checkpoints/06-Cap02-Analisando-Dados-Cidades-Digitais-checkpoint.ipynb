{
 "cells": [
  {
   "cell_type": "markdown",
   "metadata": {},
   "source": [
    "# Ciência de Dados\n",
    "\n",
    "# Big Data Real-Time Analytics com Python e Spark\n",
    "\n",
    "# Capítulo 2\n",
    "\n",
    "# Exercício"
   ]
  },
  {
   "cell_type": "markdown",
   "metadata": {},
   "source": [
    "Dados obtidos do Portal Brasileiro de Dados Abertos:\n",
    "http://dados.gov.br/dataset/cidades-digitais\n",
    "    "
   ]
  },
  {
   "cell_type": "markdown",
   "metadata": {},
   "source": [
    "O projeto Cidades Digitais foi planejado para modernizar a gestão e ampliar o acesso ao serviço público, bem como promover o desenvolvimento dos municípios brasileiros através da tecnologia."
   ]
  },
  {
   "cell_type": "markdown",
   "metadata": {},
   "source": [
    "# Group By e Reshape"
   ]
  },
  {
   "cell_type": "markdown",
   "metadata": {},
   "source": [
    "https://pandas.pydata.org/pandas-docs/stable/reference/api/pandas.DataFrame.groupby.html"
   ]
  },
  {
   "cell_type": "markdown",
   "metadata": {},
   "source": [
    "https://pandas.pydata.org/pandas-docs/stable/user_guide/reshaping.html"
   ]
  },
  {
   "cell_type": "code",
   "execution_count": 1,
   "metadata": {},
   "outputs": [],
   "source": [
    "import numpy as np\n",
    "import pandas as pd"
   ]
  },
  {
   "cell_type": "code",
   "execution_count": 2,
   "metadata": {},
   "outputs": [
    {
     "data": {
      "text/plain": [
       "'1.0.1'"
      ]
     },
     "execution_count": 2,
     "metadata": {},
     "output_type": "execute_result"
    }
   ],
   "source": [
    "pd.__version__"
   ]
  },
  {
   "cell_type": "code",
   "execution_count": 3,
   "metadata": {},
   "outputs": [],
   "source": [
    "cidadesDigitais = pd.read_csv('cidades_digitais.csv', sep = ';', encoding = 'latin-1')"
   ]
  },
  {
   "cell_type": "code",
   "execution_count": 4,
   "metadata": {},
   "outputs": [
    {
     "data": {
      "text/html": [
       "<div>\n",
       "<style scoped>\n",
       "    .dataframe tbody tr th:only-of-type {\n",
       "        vertical-align: middle;\n",
       "    }\n",
       "\n",
       "    .dataframe tbody tr th {\n",
       "        vertical-align: top;\n",
       "    }\n",
       "\n",
       "    .dataframe thead th {\n",
       "        text-align: right;\n",
       "    }\n",
       "</style>\n",
       "<table border=\"1\" class=\"dataframe\">\n",
       "  <thead>\n",
       "    <tr style=\"text-align: right;\">\n",
       "      <th></th>\n",
       "      <th>UF</th>\n",
       "      <th>CIDADE</th>\n",
       "      <th>IBGE</th>\n",
       "      <th>POPULAÇÃO</th>\n",
       "      <th>VALOR_TOTAL_PREVISTO</th>\n",
       "      <th>STATUS</th>\n",
       "      <th>PONTOS_ATENDIDOS</th>\n",
       "      <th>VALOR_INVESTIDO</th>\n",
       "    </tr>\n",
       "  </thead>\n",
       "  <tbody>\n",
       "    <tr>\n",
       "      <th>0</th>\n",
       "      <td>AC</td>\n",
       "      <td>Tarauacá</td>\n",
       "      <td>1200609</td>\n",
       "      <td>38819</td>\n",
       "      <td>484.547,53</td>\n",
       "      <td>Sem Previsão</td>\n",
       "      <td>8</td>\n",
       "      <td>0</td>\n",
       "    </tr>\n",
       "    <tr>\n",
       "      <th>1</th>\n",
       "      <td>AL</td>\n",
       "      <td>Delmiro Gouveia</td>\n",
       "      <td>2702405</td>\n",
       "      <td>51997</td>\n",
       "      <td>1.169.381,70</td>\n",
       "      <td>Sem Previsão</td>\n",
       "      <td>43</td>\n",
       "      <td>0</td>\n",
       "    </tr>\n",
       "    <tr>\n",
       "      <th>2</th>\n",
       "      <td>AL</td>\n",
       "      <td>Estrela de Alagoas</td>\n",
       "      <td>2702553</td>\n",
       "      <td>18306</td>\n",
       "      <td>527.206,83</td>\n",
       "      <td>Sem Previsão</td>\n",
       "      <td>39</td>\n",
       "      <td>0</td>\n",
       "    </tr>\n",
       "    <tr>\n",
       "      <th>3</th>\n",
       "      <td>AM</td>\n",
       "      <td>Autazes</td>\n",
       "      <td>1300300</td>\n",
       "      <td>37033</td>\n",
       "      <td>1.171.151,92</td>\n",
       "      <td>Sem Previsão</td>\n",
       "      <td>51</td>\n",
       "      <td>0</td>\n",
       "    </tr>\n",
       "    <tr>\n",
       "      <th>4</th>\n",
       "      <td>AM</td>\n",
       "      <td>Benjamin Constant</td>\n",
       "      <td>1300607</td>\n",
       "      <td>39484</td>\n",
       "      <td>844.586,48</td>\n",
       "      <td>Sem Previsão</td>\n",
       "      <td>12</td>\n",
       "      <td>0</td>\n",
       "    </tr>\n",
       "  </tbody>\n",
       "</table>\n",
       "</div>"
      ],
      "text/plain": [
       "   UF              CIDADE     IBGE  POPULAÇÃO VALOR_TOTAL_PREVISTO  \\\n",
       "0  AC            Tarauacá  1200609      38819           484.547,53   \n",
       "1  AL     Delmiro Gouveia  2702405      51997         1.169.381,70   \n",
       "2  AL  Estrela de Alagoas  2702553      18306           527.206,83   \n",
       "3  AM             Autazes  1300300      37033         1.171.151,92   \n",
       "4  AM   Benjamin Constant  1300607      39484           844.586,48   \n",
       "\n",
       "         STATUS  PONTOS_ATENDIDOS VALOR_INVESTIDO  \n",
       "0  Sem Previsão                 8               0  \n",
       "1  Sem Previsão                43               0  \n",
       "2  Sem Previsão                39               0  \n",
       "3  Sem Previsão                51               0  \n",
       "4  Sem Previsão                12               0  "
      ]
     },
     "execution_count": 4,
     "metadata": {},
     "output_type": "execute_result"
    }
   ],
   "source": [
    "cidadesDigitais.head()"
   ]
  },
  {
   "cell_type": "code",
   "execution_count": 5,
   "metadata": {},
   "outputs": [
    {
     "data": {
      "text/plain": [
       "UF                      338\n",
       "CIDADE                  338\n",
       "IBGE                    338\n",
       "POPULAÇÃO               338\n",
       "VALOR_TOTAL_PREVISTO    338\n",
       "STATUS                  338\n",
       "PONTOS_ATENDIDOS        338\n",
       "VALOR_INVESTIDO         338\n",
       "dtype: int64"
      ]
     },
     "execution_count": 5,
     "metadata": {},
     "output_type": "execute_result"
    }
   ],
   "source": [
    "cidadesDigitais.count()"
   ]
  },
  {
   "cell_type": "code",
   "execution_count": 6,
   "metadata": {},
   "outputs": [],
   "source": [
    "del cidadesDigitais['IBGE']"
   ]
  },
  {
   "cell_type": "code",
   "execution_count": 7,
   "metadata": {},
   "outputs": [],
   "source": [
    "# Aplicando Group By\n",
    "cidadesUF_1 = cidadesDigitais.groupby('UF')"
   ]
  },
  {
   "cell_type": "code",
   "execution_count": 8,
   "metadata": {},
   "outputs": [
    {
     "data": {
      "text/plain": [
       "pandas.core.groupby.generic.DataFrameGroupBy"
      ]
     },
     "execution_count": 8,
     "metadata": {},
     "output_type": "execute_result"
    }
   ],
   "source": [
    "type(cidadesUF_1)"
   ]
  },
  {
   "cell_type": "code",
   "execution_count": 9,
   "metadata": {},
   "outputs": [
    {
     "data": {
      "text/plain": [
       "{'AC': Int64Index([0], dtype='int64'),\n",
       " 'AL': Int64Index([1, 2], dtype='int64'),\n",
       " 'AM': Int64Index([3, 4, 5, 6, 7, 8, 9, 10, 11], dtype='int64'),\n",
       " 'AP': Int64Index([12, 13, 14, 15, 16, 17], dtype='int64'),\n",
       " 'BA': Int64Index([18, 19, 20, 21, 22, 23, 24, 25, 26, 27, 28, 29, 30, 31, 32, 33, 34,\n",
       "             35, 36, 37, 38, 39, 40, 41, 42, 43, 44, 45, 46, 47, 48, 49, 50],\n",
       "            dtype='int64'),\n",
       " 'CE': Int64Index([51, 52, 53, 54, 55, 56, 57, 58, 59, 60, 61, 62, 63, 64, 65, 66, 67,\n",
       "             68, 69, 70, 71, 72, 73, 74, 75, 76],\n",
       "            dtype='int64'),\n",
       " 'DF': Int64Index([77], dtype='int64'),\n",
       " 'ES': Int64Index([78, 79, 80, 81], dtype='int64'),\n",
       " 'GO': Int64Index([82, 83, 84, 85, 86, 87, 88, 89, 90, 91], dtype='int64'),\n",
       " 'MA': Int64Index([ 92,  93,  94,  95,  96,  97,  98,  99, 100, 101, 102, 103, 104,\n",
       "             105, 106, 107, 108, 109, 110, 111, 112, 113, 114, 115, 116, 117],\n",
       "            dtype='int64'),\n",
       " 'MG': Int64Index([118, 119, 120, 121, 122, 123, 124, 125, 126, 127, 128, 129, 130,\n",
       "             131, 132, 133, 134, 135, 136, 137, 138, 139, 140, 141, 142, 143,\n",
       "             144, 145],\n",
       "            dtype='int64'),\n",
       " 'MS': Int64Index([146, 147, 148], dtype='int64'),\n",
       " 'MT': Int64Index([149, 150, 151, 152], dtype='int64'),\n",
       " 'PA': Int64Index([153, 154, 155, 156, 157, 158, 159, 160, 161, 162, 163, 164, 165,\n",
       "             166, 167, 168, 169, 170, 171, 172, 173, 174, 175, 176],\n",
       "            dtype='int64'),\n",
       " 'PB': Int64Index([177, 178, 179, 180, 181, 182, 183, 184, 185, 186, 187, 188, 189,\n",
       "             190, 191, 192, 193, 194],\n",
       "            dtype='int64'),\n",
       " 'PE': Int64Index([195, 196, 197, 198, 199, 200, 201, 202, 203, 204, 205, 206, 207,\n",
       "             208, 209, 210],\n",
       "            dtype='int64'),\n",
       " 'PI': Int64Index([211, 212, 213, 214, 215, 216, 217, 218, 219, 220, 221, 222, 223,\n",
       "             224, 225, 226, 227, 228],\n",
       "            dtype='int64'),\n",
       " 'PR': Int64Index([229, 230, 231, 232, 233, 234, 235, 236, 237, 238, 239, 240, 241,\n",
       "             242, 243, 244, 245],\n",
       "            dtype='int64'),\n",
       " 'RJ': Int64Index([246, 247, 248, 249, 250, 251, 252, 253, 254, 255, 256, 257, 258,\n",
       "             259, 260],\n",
       "            dtype='int64'),\n",
       " 'RN': Int64Index([261, 262, 263, 264, 265, 266, 267, 268, 269], dtype='int64'),\n",
       " 'RO': Int64Index([270, 271], dtype='int64'),\n",
       " 'RR': Int64Index([272], dtype='int64'),\n",
       " 'RS': Int64Index([273, 274, 275, 276, 277, 278, 279, 280, 281, 282, 283, 284, 285,\n",
       "             286, 287, 288],\n",
       "            dtype='int64'),\n",
       " 'SC': Int64Index([289, 290, 291, 292, 293, 294], dtype='int64'),\n",
       " 'SE': Int64Index([295, 296, 297, 298], dtype='int64'),\n",
       " 'SP': Int64Index([299, 300, 301, 302, 303, 304, 305, 306, 307, 308, 309, 310, 311,\n",
       "             312, 313, 314, 315, 316, 317, 318, 319, 320, 321, 322, 323, 324,\n",
       "             325, 326, 327, 328, 329, 330, 331, 332, 333],\n",
       "            dtype='int64'),\n",
       " 'TO': Int64Index([334, 335, 336, 337], dtype='int64')}"
      ]
     },
     "execution_count": 9,
     "metadata": {},
     "output_type": "execute_result"
    }
   ],
   "source": [
    "cidadesUF_1.groups"
   ]
  },
  {
   "cell_type": "code",
   "execution_count": 10,
   "metadata": {},
   "outputs": [
    {
     "data": {
      "text/plain": [
       "27"
      ]
     },
     "execution_count": 10,
     "metadata": {},
     "output_type": "execute_result"
    }
   ],
   "source": [
    "# Número de grupos\n",
    "len(cidadesUF_1.groups)"
   ]
  },
  {
   "cell_type": "code",
   "execution_count": 11,
   "metadata": {},
   "outputs": [],
   "source": [
    "ordenaUF = cidadesUF_1.size()"
   ]
  },
  {
   "cell_type": "code",
   "execution_count": 12,
   "metadata": {},
   "outputs": [],
   "source": [
    "# Ordena os grupos por ordem decrescente"
   ]
  },
  {
   "cell_type": "code",
   "execution_count": 13,
   "metadata": {},
   "outputs": [],
   "source": [
    "cidadesUF_2 = cidadesDigitais.groupby(['UF','STATUS'])"
   ]
  },
  {
   "cell_type": "code",
   "execution_count": 14,
   "metadata": {},
   "outputs": [],
   "source": [
    "# Total agrupado"
   ]
  },
  {
   "cell_type": "code",
   "execution_count": 15,
   "metadata": {},
   "outputs": [
    {
     "data": {
      "text/html": [
       "<div>\n",
       "<style scoped>\n",
       "    .dataframe tbody tr th:only-of-type {\n",
       "        vertical-align: middle;\n",
       "    }\n",
       "\n",
       "    .dataframe tbody tr th {\n",
       "        vertical-align: top;\n",
       "    }\n",
       "\n",
       "    .dataframe thead th {\n",
       "        text-align: right;\n",
       "    }\n",
       "</style>\n",
       "<table border=\"1\" class=\"dataframe\">\n",
       "  <thead>\n",
       "    <tr style=\"text-align: right;\">\n",
       "      <th></th>\n",
       "      <th>UF</th>\n",
       "      <th>CIDADE</th>\n",
       "      <th>POPULAÇÃO</th>\n",
       "      <th>VALOR_TOTAL_PREVISTO</th>\n",
       "      <th>STATUS</th>\n",
       "      <th>PONTOS_ATENDIDOS</th>\n",
       "      <th>VALOR_INVESTIDO</th>\n",
       "    </tr>\n",
       "  </thead>\n",
       "  <tbody>\n",
       "    <tr>\n",
       "      <th>0</th>\n",
       "      <td>AC</td>\n",
       "      <td>Tarauacá</td>\n",
       "      <td>38819</td>\n",
       "      <td>484.547,53</td>\n",
       "      <td>Sem Previsão</td>\n",
       "      <td>8</td>\n",
       "      <td>0</td>\n",
       "    </tr>\n",
       "    <tr>\n",
       "      <th>1</th>\n",
       "      <td>AL</td>\n",
       "      <td>Delmiro Gouveia</td>\n",
       "      <td>51997</td>\n",
       "      <td>1.169.381,70</td>\n",
       "      <td>Sem Previsão</td>\n",
       "      <td>43</td>\n",
       "      <td>0</td>\n",
       "    </tr>\n",
       "    <tr>\n",
       "      <th>2</th>\n",
       "      <td>AL</td>\n",
       "      <td>Estrela de Alagoas</td>\n",
       "      <td>18306</td>\n",
       "      <td>527.206,83</td>\n",
       "      <td>Sem Previsão</td>\n",
       "      <td>39</td>\n",
       "      <td>0</td>\n",
       "    </tr>\n",
       "    <tr>\n",
       "      <th>3</th>\n",
       "      <td>AM</td>\n",
       "      <td>Autazes</td>\n",
       "      <td>37033</td>\n",
       "      <td>1.171.151,92</td>\n",
       "      <td>Sem Previsão</td>\n",
       "      <td>51</td>\n",
       "      <td>0</td>\n",
       "    </tr>\n",
       "    <tr>\n",
       "      <th>4</th>\n",
       "      <td>AM</td>\n",
       "      <td>Benjamin Constant</td>\n",
       "      <td>39484</td>\n",
       "      <td>844.586,48</td>\n",
       "      <td>Sem Previsão</td>\n",
       "      <td>12</td>\n",
       "      <td>0</td>\n",
       "    </tr>\n",
       "  </tbody>\n",
       "</table>\n",
       "</div>"
      ],
      "text/plain": [
       "   UF              CIDADE  POPULAÇÃO VALOR_TOTAL_PREVISTO        STATUS  \\\n",
       "0  AC            Tarauacá      38819           484.547,53  Sem Previsão   \n",
       "1  AL     Delmiro Gouveia      51997         1.169.381,70  Sem Previsão   \n",
       "2  AL  Estrela de Alagoas      18306           527.206,83  Sem Previsão   \n",
       "3  AM             Autazes      37033         1.171.151,92  Sem Previsão   \n",
       "4  AM   Benjamin Constant      39484           844.586,48  Sem Previsão   \n",
       "\n",
       "   PONTOS_ATENDIDOS VALOR_INVESTIDO  \n",
       "0                 8               0  \n",
       "1                43               0  \n",
       "2                39               0  \n",
       "3                51               0  \n",
       "4                12               0  "
      ]
     },
     "execution_count": 15,
     "metadata": {},
     "output_type": "execute_result"
    }
   ],
   "source": [
    "cidadesDigitais.head()"
   ]
  },
  {
   "cell_type": "code",
   "execution_count": 16,
   "metadata": {},
   "outputs": [],
   "source": [
    "cidadesUF_3 = cidadesDigitais.set_index('STATUS')"
   ]
  },
  {
   "cell_type": "code",
   "execution_count": 17,
   "metadata": {},
   "outputs": [],
   "source": [
    "# Aplicando Group By\n"
   ]
  },
  {
   "cell_type": "code",
   "execution_count": 18,
   "metadata": {},
   "outputs": [
    {
     "data": {
      "text/html": [
       "<div>\n",
       "<style scoped>\n",
       "    .dataframe tbody tr th:only-of-type {\n",
       "        vertical-align: middle;\n",
       "    }\n",
       "\n",
       "    .dataframe tbody tr th {\n",
       "        vertical-align: top;\n",
       "    }\n",
       "\n",
       "    .dataframe thead th {\n",
       "        text-align: right;\n",
       "    }\n",
       "</style>\n",
       "<table border=\"1\" class=\"dataframe\">\n",
       "  <thead>\n",
       "    <tr style=\"text-align: right;\">\n",
       "      <th></th>\n",
       "      <th>UF</th>\n",
       "      <th>CIDADE</th>\n",
       "      <th>POPULAÇÃO</th>\n",
       "      <th>VALOR_TOTAL_PREVISTO</th>\n",
       "      <th>PONTOS_ATENDIDOS</th>\n",
       "      <th>VALOR_INVESTIDO</th>\n",
       "    </tr>\n",
       "    <tr>\n",
       "      <th>STATUS</th>\n",
       "      <th></th>\n",
       "      <th></th>\n",
       "      <th></th>\n",
       "      <th></th>\n",
       "      <th></th>\n",
       "      <th></th>\n",
       "    </tr>\n",
       "  </thead>\n",
       "  <tbody>\n",
       "    <tr>\n",
       "      <th>Sem Previsão</th>\n",
       "      <td>AC</td>\n",
       "      <td>Tarauacá</td>\n",
       "      <td>38819</td>\n",
       "      <td>484.547,53</td>\n",
       "      <td>8</td>\n",
       "      <td>0</td>\n",
       "    </tr>\n",
       "    <tr>\n",
       "      <th>Sem Previsão</th>\n",
       "      <td>AL</td>\n",
       "      <td>Delmiro Gouveia</td>\n",
       "      <td>51997</td>\n",
       "      <td>1.169.381,70</td>\n",
       "      <td>43</td>\n",
       "      <td>0</td>\n",
       "    </tr>\n",
       "    <tr>\n",
       "      <th>Sem Previsão</th>\n",
       "      <td>AL</td>\n",
       "      <td>Estrela de Alagoas</td>\n",
       "      <td>18306</td>\n",
       "      <td>527.206,83</td>\n",
       "      <td>39</td>\n",
       "      <td>0</td>\n",
       "    </tr>\n",
       "    <tr>\n",
       "      <th>Sem Previsão</th>\n",
       "      <td>AM</td>\n",
       "      <td>Autazes</td>\n",
       "      <td>37033</td>\n",
       "      <td>1.171.151,92</td>\n",
       "      <td>51</td>\n",
       "      <td>0</td>\n",
       "    </tr>\n",
       "    <tr>\n",
       "      <th>Sem Previsão</th>\n",
       "      <td>AM</td>\n",
       "      <td>Benjamin Constant</td>\n",
       "      <td>39484</td>\n",
       "      <td>844.586,48</td>\n",
       "      <td>12</td>\n",
       "      <td>0</td>\n",
       "    </tr>\n",
       "  </tbody>\n",
       "</table>\n",
       "</div>"
      ],
      "text/plain": [
       "              UF              CIDADE  POPULAÇÃO VALOR_TOTAL_PREVISTO  \\\n",
       "STATUS                                                                 \n",
       "Sem Previsão  AC            Tarauacá      38819           484.547,53   \n",
       "Sem Previsão  AL     Delmiro Gouveia      51997         1.169.381,70   \n",
       "Sem Previsão  AL  Estrela de Alagoas      18306           527.206,83   \n",
       "Sem Previsão  AM             Autazes      37033         1.171.151,92   \n",
       "Sem Previsão  AM   Benjamin Constant      39484           844.586,48   \n",
       "\n",
       "              PONTOS_ATENDIDOS VALOR_INVESTIDO  \n",
       "STATUS                                          \n",
       "Sem Previsão                 8               0  \n",
       "Sem Previsão                43               0  \n",
       "Sem Previsão                39               0  \n",
       "Sem Previsão                51               0  \n",
       "Sem Previsão                12               0  "
      ]
     },
     "execution_count": 18,
     "metadata": {},
     "output_type": "execute_result"
    }
   ],
   "source": [
    "cidadesUF_3.head()"
   ]
  },
  {
   "cell_type": "code",
   "execution_count": 19,
   "metadata": {},
   "outputs": [
    {
     "data": {
      "text/html": [
       "<div>\n",
       "<style scoped>\n",
       "    .dataframe tbody tr th:only-of-type {\n",
       "        vertical-align: middle;\n",
       "    }\n",
       "\n",
       "    .dataframe tbody tr th {\n",
       "        vertical-align: top;\n",
       "    }\n",
       "\n",
       "    .dataframe thead th {\n",
       "        text-align: right;\n",
       "    }\n",
       "</style>\n",
       "<table border=\"1\" class=\"dataframe\">\n",
       "  <thead>\n",
       "    <tr style=\"text-align: right;\">\n",
       "      <th></th>\n",
       "      <th>UF</th>\n",
       "      <th>CIDADE</th>\n",
       "      <th>POPULAÇÃO</th>\n",
       "      <th>VALOR_TOTAL_PREVISTO</th>\n",
       "      <th>PONTOS_ATENDIDOS</th>\n",
       "      <th>VALOR_INVESTIDO</th>\n",
       "    </tr>\n",
       "    <tr>\n",
       "      <th>STATUS</th>\n",
       "      <th></th>\n",
       "      <th></th>\n",
       "      <th></th>\n",
       "      <th></th>\n",
       "      <th></th>\n",
       "      <th></th>\n",
       "    </tr>\n",
       "  </thead>\n",
       "  <tbody>\n",
       "    <tr>\n",
       "      <th>Sem Previsão</th>\n",
       "      <td>AC</td>\n",
       "      <td>Tarauacá</td>\n",
       "      <td>38819</td>\n",
       "      <td>484.547,53</td>\n",
       "      <td>8</td>\n",
       "      <td>0</td>\n",
       "    </tr>\n",
       "    <tr>\n",
       "      <th>Sem Previsão</th>\n",
       "      <td>AL</td>\n",
       "      <td>Delmiro Gouveia</td>\n",
       "      <td>51997</td>\n",
       "      <td>1.169.381,70</td>\n",
       "      <td>43</td>\n",
       "      <td>0</td>\n",
       "    </tr>\n",
       "    <tr>\n",
       "      <th>Sem Previsão</th>\n",
       "      <td>AL</td>\n",
       "      <td>Estrela de Alagoas</td>\n",
       "      <td>18306</td>\n",
       "      <td>527.206,83</td>\n",
       "      <td>39</td>\n",
       "      <td>0</td>\n",
       "    </tr>\n",
       "    <tr>\n",
       "      <th>Sem Previsão</th>\n",
       "      <td>AM</td>\n",
       "      <td>Autazes</td>\n",
       "      <td>37033</td>\n",
       "      <td>1.171.151,92</td>\n",
       "      <td>51</td>\n",
       "      <td>0</td>\n",
       "    </tr>\n",
       "    <tr>\n",
       "      <th>Sem Previsão</th>\n",
       "      <td>AM</td>\n",
       "      <td>Benjamin Constant</td>\n",
       "      <td>39484</td>\n",
       "      <td>844.586,48</td>\n",
       "      <td>12</td>\n",
       "      <td>0</td>\n",
       "    </tr>\n",
       "    <tr>\n",
       "      <th>...</th>\n",
       "      <td>...</td>\n",
       "      <td>...</td>\n",
       "      <td>...</td>\n",
       "      <td>...</td>\n",
       "      <td>...</td>\n",
       "      <td>...</td>\n",
       "    </tr>\n",
       "    <tr>\n",
       "      <th>Sem Previsão</th>\n",
       "      <td>SP</td>\n",
       "      <td>Vargem Grande do Sul</td>\n",
       "      <td>41807</td>\n",
       "      <td>1.525.640,54</td>\n",
       "      <td>47</td>\n",
       "      <td>0</td>\n",
       "    </tr>\n",
       "    <tr>\n",
       "      <th>Sem Previsão</th>\n",
       "      <td>TO</td>\n",
       "      <td>Paraíso do Tocantins</td>\n",
       "      <td>49076</td>\n",
       "      <td>1.872.693,90</td>\n",
       "      <td>49</td>\n",
       "      <td>0</td>\n",
       "    </tr>\n",
       "    <tr>\n",
       "      <th>Sem Previsão</th>\n",
       "      <td>TO</td>\n",
       "      <td>Ponte Alta do Bom Jesus</td>\n",
       "      <td>4649</td>\n",
       "      <td>251.266,44</td>\n",
       "      <td>9</td>\n",
       "      <td>23.969,90</td>\n",
       "    </tr>\n",
       "    <tr>\n",
       "      <th>Sem Previsão</th>\n",
       "      <td>TO</td>\n",
       "      <td>Porto Nacional</td>\n",
       "      <td>52182</td>\n",
       "      <td>1.101.168,76</td>\n",
       "      <td>61</td>\n",
       "      <td>0</td>\n",
       "    </tr>\n",
       "    <tr>\n",
       "      <th>Sem Previsão</th>\n",
       "      <td>TO</td>\n",
       "      <td>São Miguel do Tocantins</td>\n",
       "      <td>11597</td>\n",
       "      <td>592.549,70</td>\n",
       "      <td>20</td>\n",
       "      <td>0</td>\n",
       "    </tr>\n",
       "  </tbody>\n",
       "</table>\n",
       "<p>338 rows × 6 columns</p>\n",
       "</div>"
      ],
      "text/plain": [
       "              UF                   CIDADE  POPULAÇÃO VALOR_TOTAL_PREVISTO  \\\n",
       "STATUS                                                                      \n",
       "Sem Previsão  AC                 Tarauacá      38819           484.547,53   \n",
       "Sem Previsão  AL          Delmiro Gouveia      51997         1.169.381,70   \n",
       "Sem Previsão  AL       Estrela de Alagoas      18306           527.206,83   \n",
       "Sem Previsão  AM                  Autazes      37033         1.171.151,92   \n",
       "Sem Previsão  AM        Benjamin Constant      39484           844.586,48   \n",
       "...           ..                      ...        ...                  ...   \n",
       "Sem Previsão  SP     Vargem Grande do Sul      41807         1.525.640,54   \n",
       "Sem Previsão  TO     Paraíso do Tocantins      49076         1.872.693,90   \n",
       "Sem Previsão  TO  Ponte Alta do Bom Jesus       4649           251.266,44   \n",
       "Sem Previsão  TO           Porto Nacional      52182         1.101.168,76   \n",
       "Sem Previsão  TO  São Miguel do Tocantins      11597           592.549,70   \n",
       "\n",
       "              PONTOS_ATENDIDOS VALOR_INVESTIDO  \n",
       "STATUS                                          \n",
       "Sem Previsão                 8               0  \n",
       "Sem Previsão                43               0  \n",
       "Sem Previsão                39               0  \n",
       "Sem Previsão                51               0  \n",
       "Sem Previsão                12               0  \n",
       "...                        ...             ...  \n",
       "Sem Previsão                47               0  \n",
       "Sem Previsão                49               0  \n",
       "Sem Previsão                 9       23.969,90  \n",
       "Sem Previsão                61               0  \n",
       "Sem Previsão                20               0  \n",
       "\n",
       "[338 rows x 6 columns]"
      ]
     },
     "execution_count": 19,
     "metadata": {},
     "output_type": "execute_result"
    }
   ],
   "source": [
    "cidadesUF_3"
   ]
  },
  {
   "cell_type": "code",
   "execution_count": 20,
   "metadata": {},
   "outputs": [
    {
     "data": {
      "text/html": [
       "<div>\n",
       "<style scoped>\n",
       "    .dataframe tbody tr th:only-of-type {\n",
       "        vertical-align: middle;\n",
       "    }\n",
       "\n",
       "    .dataframe tbody tr th {\n",
       "        vertical-align: top;\n",
       "    }\n",
       "\n",
       "    .dataframe thead th {\n",
       "        text-align: right;\n",
       "    }\n",
       "</style>\n",
       "<table border=\"1\" class=\"dataframe\">\n",
       "  <thead>\n",
       "    <tr style=\"text-align: right;\">\n",
       "      <th></th>\n",
       "      <th>UF</th>\n",
       "      <th>CIDADE</th>\n",
       "      <th>POPULAÇÃO</th>\n",
       "      <th>VALOR_TOTAL_PREVISTO</th>\n",
       "      <th>STATUS</th>\n",
       "      <th>PONTOS_ATENDIDOS</th>\n",
       "      <th>VALOR_INVESTIDO</th>\n",
       "    </tr>\n",
       "  </thead>\n",
       "  <tbody>\n",
       "    <tr>\n",
       "      <th>0</th>\n",
       "      <td>AC</td>\n",
       "      <td>Tarauacá</td>\n",
       "      <td>38819</td>\n",
       "      <td>484.547,53</td>\n",
       "      <td>Sem Previsão</td>\n",
       "      <td>8</td>\n",
       "      <td>0</td>\n",
       "    </tr>\n",
       "    <tr>\n",
       "      <th>1</th>\n",
       "      <td>AL</td>\n",
       "      <td>Delmiro Gouveia</td>\n",
       "      <td>51997</td>\n",
       "      <td>1.169.381,70</td>\n",
       "      <td>Sem Previsão</td>\n",
       "      <td>43</td>\n",
       "      <td>0</td>\n",
       "    </tr>\n",
       "    <tr>\n",
       "      <th>2</th>\n",
       "      <td>AL</td>\n",
       "      <td>Estrela de Alagoas</td>\n",
       "      <td>18306</td>\n",
       "      <td>527.206,83</td>\n",
       "      <td>Sem Previsão</td>\n",
       "      <td>39</td>\n",
       "      <td>0</td>\n",
       "    </tr>\n",
       "  </tbody>\n",
       "</table>\n",
       "</div>"
      ],
      "text/plain": [
       "   UF              CIDADE  POPULAÇÃO VALOR_TOTAL_PREVISTO        STATUS  \\\n",
       "0  AC            Tarauacá      38819           484.547,53  Sem Previsão   \n",
       "1  AL     Delmiro Gouveia      51997         1.169.381,70  Sem Previsão   \n",
       "2  AL  Estrela de Alagoas      18306           527.206,83  Sem Previsão   \n",
       "\n",
       "   PONTOS_ATENDIDOS VALOR_INVESTIDO  \n",
       "0                 8               0  \n",
       "1                43               0  \n",
       "2                39               0  "
      ]
     },
     "execution_count": 20,
     "metadata": {},
     "output_type": "execute_result"
    }
   ],
   "source": [
    "cidadesDigitais.head(3)"
   ]
  },
  {
   "cell_type": "markdown",
   "metadata": {},
   "source": [
    "# Fim"
   ]
  }
 ],
 "metadata": {
  "anaconda-cloud": {},
  "kernelspec": {
   "display_name": "Python 3",
   "language": "python",
   "name": "python3"
  },
  "language_info": {
   "codemirror_mode": {
    "name": "ipython",
    "version": 3
   },
   "file_extension": ".py",
   "mimetype": "text/x-python",
   "name": "python",
   "nbconvert_exporter": "python",
   "pygments_lexer": "ipython3",
   "version": "3.7.6"
  }
 },
 "nbformat": 4,
 "nbformat_minor": 4
}
